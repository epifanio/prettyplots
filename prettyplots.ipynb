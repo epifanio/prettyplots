{
 "cells": [
  {
   "cell_type": "markdown",
   "id": "aquatic-principle",
   "metadata": {},
   "source": [
    "# Prettyplots: design your own plots in the interactive mode"
   ]
  },
  {
   "cell_type": "markdown",
   "id": "industrial-casino",
   "metadata": {},
   "source": [
    "### Load the libraries and mock data"
   ]
  },
  {
   "cell_type": "code",
   "execution_count": 1,
   "id": "substantial-underwear",
   "metadata": {},
   "outputs": [],
   "source": [
    "import pickle\n",
    "import numpy \n",
    "from matplotlib import pyplot as plt\n",
    "import matplotlib as mpl\n",
    "\n",
    "import numpy as np\n",
    "from ipywidgets import interact\n",
    "import ipywidgets as widgets\n",
    "\n",
    "with open('test_data.pkl', 'rb') as f:\n",
    "    plot_data = pickle.load(f)\n",
    "    \n",
    "config = {}"
   ]
  },
  {
   "cell_type": "markdown",
   "id": "collectible-guest",
   "metadata": {},
   "source": [
    "### Play with the parameters to get the look you like"
   ]
  },
  {
   "cell_type": "code",
   "execution_count": 2,
   "id": "spanish-designer",
   "metadata": {
    "scrolled": false
   },
   "outputs": [
    {
     "data": {
      "application/vnd.jupyter.widget-view+json": {
       "model_id": "88035634478045189a2df9ddc8e27e1b",
       "version_major": 2,
       "version_minor": 0
      },
      "text/plain": [
       "interactive(children=(Text(value='Performance curves', description='plot_title'), Text(value='Update steps', d…"
      ]
     },
     "metadata": {},
     "output_type": "display_data"
    }
   ],
   "source": [
    "def get_config(plot_title,\n",
    "               xlabel,\n",
    "               ylabel,\n",
    "               tick_fontsize=12,\n",
    "               label_fontsize=15,\n",
    "               legend_fontsize=15,\n",
    "               suptitle_fontsize=20,\n",
    "               colormap='Accent',\n",
    "               linewidth=3, \n",
    "               grid=False,\n",
    "               dpi=200,\n",
    "               figure_width=7,\n",
    "               figure_height=4,\n",
    "               shade_alpha=0.5,\n",
    "              ):\n",
    "    global config\n",
    "    config = {\n",
    "        \"figure.titlesize\": suptitle_fontsize,\n",
    "        \"figure.figsize\": (float(figure_width), float(figure_height)),\n",
    "        \"figure.dpi\": dpi,\n",
    "        \"xtick.labelsize\": tick_fontsize,\n",
    "        \"ytick.labelsize\": tick_fontsize,\n",
    "        \"lines.linewidth\": linewidth,\n",
    "        \"axes.labelsize\": label_fontsize,\n",
    "        \"legend.fontsize\": legend_fontsize,\n",
    "        \"axes.grid\": grid,\n",
    "        \"image.cmap\": colormap\n",
    "        \n",
    "    }\n",
    "    for k,v in config.items():\n",
    "        mpl.rcParams[k] = v\n",
    "    \n",
    "    cmap = mpl.cm.get_cmap(colormap)\n",
    "    n_curves = len(plot_data)\n",
    "    for ctr, (k,v) in enumerate(plot_data.items()):\n",
    "        mean = v\n",
    "        sem = np.random.random(size=len(mean))*10 + 50\n",
    "        if k == 'LSTM':\n",
    "            sem=0\n",
    "        ccolor = cmap(ctr/n_curves)\n",
    "        plt.plot(mean, label=k, linewidth=linewidth, color=ccolor)\n",
    "        plt.fill_between(range(len(mean)), mean - sem, mean + sem, alpha=shade_alpha, color=ccolor)\n",
    "    plt.legend(fontsize=legend_fontsize)\n",
    "    plt.xticks(fontsize=tick_fontsize)\n",
    "    plt.yticks(fontsize=tick_fontsize)\n",
    "    plt.suptitle(plot_title);\n",
    "    plt.xlabel(xlabel);\n",
    "    plt.ylabel(ylabel);\n",
    "    \n",
    "\n",
    "interact(get_config,\n",
    "         plot_title=\"Performance curves\",\n",
    "         xlabel='Update steps',\n",
    "         ylabel='Mean reward (+/- sem)',\n",
    "         linewidth=(0.0, 10.0, 1.), \n",
    "         tick_fontsize=(5, 20, 1),\n",
    "         label_fontsize=(5, 20, 1),\n",
    "         suptitle_fontsize=(5, 20, 1),\n",
    "         legend_fontsize=(5, 20, 1),\n",
    "         figure_width=(1, 20, 1),\n",
    "         figure_height=(1,20, 1),\n",
    "         dpi=(50, 200, 10),\n",
    "         grid=False,\n",
    "         shade_alpha=(0.0, 1.0, 0.1),\n",
    "         colormap=mpl.pyplot.colormaps()\n",
    "        );"
   ]
  },
  {
   "cell_type": "markdown",
   "id": "boxed-manufacturer",
   "metadata": {},
   "source": [
    "### Save the config"
   ]
  },
  {
   "cell_type": "code",
   "execution_count": 3,
   "id": "ongoing-wiring",
   "metadata": {},
   "outputs": [],
   "source": [
    "with open('prettyplots.mplstyle', 'w') as f:\n",
    "    for k,v in config.items():\n",
    "        if isinstance(v, tuple):\n",
    "            v = ','.join(map(str, v))\n",
    "        f.write(f'{k}:{v}\\n')"
   ]
  },
  {
   "cell_type": "markdown",
   "id": "arbitrary-formula",
   "metadata": {},
   "source": [
    "### To use your config, add this line after matplotlib import\n",
    "\n",
    "```\n",
    "plt.style.use('./prettyplots.mplstyle') # change the path as needed\n",
    "```"
   ]
  }
 ],
 "metadata": {
  "kernelspec": {
   "display_name": "Python 3",
   "language": "python",
   "name": "python3"
  },
  "language_info": {
   "codemirror_mode": {
    "name": "ipython",
    "version": 3
   },
   "file_extension": ".py",
   "mimetype": "text/x-python",
   "name": "python",
   "nbconvert_exporter": "python",
   "pygments_lexer": "ipython3",
   "version": "3.8.5"
  }
 },
 "nbformat": 4,
 "nbformat_minor": 5
}
